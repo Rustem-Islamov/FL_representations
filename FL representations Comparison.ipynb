{
 "cells": [
  {
   "cell_type": "code",
   "execution_count": null,
   "id": "d03908ba",
   "metadata": {
    "executionInfo": {
     "elapsed": 1739,
     "status": "ok",
     "timestamp": 1683994763575,
     "user": {
      "displayName": "Rustem Islamov",
      "userId": "14004423805570759556"
     },
     "user_tz": 420
    },
    "id": "d03908ba"
   },
   "outputs": [],
   "source": [
    "import numpy as np\n",
    "import matplotlib.pylab as plt\n",
    "from sklearn.preprocessing import StandardScaler\n",
    "from numba import njit, jit\n",
    "from numba.experimental import jitclass\n",
    "import pickle\n",
    "stand_scaler = StandardScaler()"
   ]
  },
  {
   "cell_type": "code",
   "execution_count": null,
   "id": "b68fbfe6",
   "metadata": {
    "executionInfo": {
     "elapsed": 9,
     "status": "ok",
     "timestamp": 1683994785456,
     "user": {
      "displayName": "Rustem Islamov",
      "userId": "14004423805570759556"
     },
     "user_tz": 420
    },
    "id": "b68fbfe6"
   },
   "outputs": [],
   "source": [
    "max_seed = 424242\n",
    "\n",
    "d_theta = 100\n",
    "d_w = 50\n",
    "n_data = 1000\n",
    "zeta = 0\n",
    "lmb = 0\n",
    "M = 8\n",
    "\n",
    "rng = np.random.default_rng(42)\n",
    "noise_scale = 1e-3\n",
    "b_theta = rng.normal(size=(d_theta,))"
   ]
  },
  {
   "cell_type": "code",
   "execution_count": null,
   "id": "063758e8",
   "metadata": {
    "executionInfo": {
     "elapsed": 9,
     "status": "ok",
     "timestamp": 1683994785456,
     "user": {
      "displayName": "Rustem Islamov",
      "userId": "14004423805570759556"
     },
     "user_tz": 420
    },
    "id": "063758e8"
   },
   "outputs": [],
   "source": [
    "H = rng.uniform(size=(n_data, d_theta)) / d_theta\n",
    "A = rng.uniform(size=(n_data, d_theta)) / d_theta\n",
    "B = rng.uniform(size=(n_data, d_w)) / d_w\n",
    "\n",
    "def generate_A_b(H, n, d, zeta, noise_scale):\n",
    "    A = rng.uniform(size=(n, d)) / d\n",
    "    A = H + zeta*A\n",
    "    x = rng.normal(size=d)\n",
    "    b = A @ x + noise_scale * rng.normal(n)\n",
    "    return A, b\n",
    "\n",
    "def generate_A_B_c(A, B, n, d1, d2, zeta, noise_scale):\n",
    "    A1 = rng.uniform(size=(n, d1), ) / (d1)\n",
    "    B1 = rng.uniform(size=(n, d2)) / (d2)\n",
    "    A = A + zeta*A1\n",
    "    B = B + zeta*B1\n",
    "    x1 = rng.normal(size=d1)\n",
    "    x2 = rng.normal(size=d2)\n",
    "    y = A @ x1 + B @ x2 + noise_scale * rng.normal(n)\n",
    "    return A, B, y"
   ]
  },
  {
   "cell_type": "markdown",
   "id": "0b4f1ce3",
   "metadata": {
    "id": "0b4f1ce3"
   },
   "source": [
    "$$\\phi_m(\\theta) = \\frac{1}{2}\\|H_m\\theta - b_m\\|^2$$\n",
    "$$\\nabla \\phi_m(\\theta) = H_m^\\top(H_m\\theta - b_m)$$"
   ]
  },
  {
   "cell_type": "code",
   "execution_count": null,
   "id": "eba11cc7",
   "metadata": {
    "executionInfo": {
     "elapsed": 8,
     "status": "ok",
     "timestamp": 1683994785456,
     "user": {
      "displayName": "Rustem Islamov",
      "userId": "14004423805570759556"
     },
     "user_tz": 420
    },
    "id": "eba11cc7"
   },
   "outputs": [],
   "source": [
    "class Phi_m:\n",
    "    def __init__(self, d_theta, n_data, zeta, noise_scale, H):\n",
    "        self.d = d_theta\n",
    "        self.Hm, self.bm = generate_A_b(H, n_data, d_theta, zeta, noise_scale)\n",
    "    \n",
    "    def func(self, theta):\n",
    "        return 0.5*sum((self.Hm@theta - self.bm)**2) \n",
    "    \n",
    "    def grad(self, theta):\n",
    "        return self.Hm.T@(self.Hm@theta - self.bm)"
   ]
  },
  {
   "cell_type": "markdown",
   "id": "c8b9a146",
   "metadata": {
    "id": "c8b9a146"
   },
   "source": [
    "$$\n",
    "\\begin{align}\n",
    "f_m(\\theta, w) &= \\phi_m(\\theta) + \\frac{1}{2}\\|A_m\\theta+B_mw-y_m\\|^2\\\\\n",
    "\\nabla_1f_m(\\theta, w) &= \\nabla \\phi_m(\\theta) + A_m^\\top(A_m\\theta+B_mw-y_m)\\\\\n",
    "\\nabla_2f_m(\\theta, w) &= B_m^\\top(A_m\\theta+B_mw-y_m)\\\\\n",
    "w_m^*(\\theta) &= (B_m^\\top B_m)^{-1}(B_m^\\top y_m - B_m^\\top A_m\\theta)\n",
    "\\end{align}\n",
    "$$"
   ]
  },
  {
   "cell_type": "code",
   "execution_count": null,
   "id": "8bd6a2d3",
   "metadata": {
    "executionInfo": {
     "elapsed": 8,
     "status": "ok",
     "timestamp": 1683994785456,
     "user": {
      "displayName": "Rustem Islamov",
      "userId": "14004423805570759556"
     },
     "user_tz": 420
    },
    "id": "8bd6a2d3"
   },
   "outputs": [],
   "source": [
    "class F_m:\n",
    "    def __init__(self, idx, d_theta, d_w, n_data, zeta, noise_scale, H, A, B):\n",
    "        self.phi_m = Phi_m(d_theta, n_data, zeta, noise_scale, H)\n",
    "        self.d_theta = d_theta\n",
    "        self.d_w = d_w\n",
    "        self.m = idx\n",
    "        self.Am, self.Bm, self.ym = generate_A_B_c(A, B, n_data, d_theta, d_w, zeta, noise_scale)\n",
    "    \n",
    "    def func(self, theta, w):\n",
    "        return self.phi_m.func(theta) + 0.5*sum((self.Am@theta + self.Bm@w - self.ym)**2)\n",
    "\n",
    "    def grad_theta(self, theta, w):\n",
    "        return self.phi_m.grad(theta) + self.Am.T@(self.Am@theta + self.Bm@w - self.ym)\n",
    "\n",
    "    def grad_w(self, theta, w):\n",
    "        return self.Bm.T@(self.Am@theta + self.Bm@w - self.ym)\n",
    "\n",
    "    def opt_w(self, theta):\n",
    "        A = self.Bm.T@self.Bm\n",
    "        b = self.Bm.T@(self.ym - self.Am@theta)\n",
    "        return np.linalg.solve(A, b)\n",
    "    \n",
    "    def operator(self, theta):\n",
    "        w_star = self.opt_w(theta)\n",
    "        return self.grad_theta(theta, w_star)\n",
    "    \n",
    "    def operator_norm_(self, theta):\n",
    "        return sum(self.operator(theta)**2)"
   ]
  },
  {
   "cell_type": "code",
   "execution_count": null,
   "id": "cce72dc1",
   "metadata": {
    "executionInfo": {
     "elapsed": 8,
     "status": "ok",
     "timestamp": 1683994785457,
     "user": {
      "displayName": "Rustem Islamov",
      "userId": "14004423805570759556"
     },
     "user_tz": 420
    },
    "id": "cce72dc1"
   },
   "outputs": [],
   "source": [
    "class F:\n",
    "    def __init__(self, clients, d_theta, M):\n",
    "        self.clients = clients\n",
    "        self.M = M\n",
    "        self.d_theta = d_theta\n",
    "        \n",
    "    def operator(self, theta):\n",
    "        out = np.zeros((self.d_theta,))\n",
    "        for m in self.clients:\n",
    "            out += m.operator(theta)\n",
    "        return out / self.M\n",
    "    \n",
    "    \n",
    "    def operator_norm(self, theta):\n",
    "        return np.linalg.norm(self.operator(theta))"
   ]
  },
  {
   "cell_type": "code",
   "execution_count": null,
   "id": "d44e93f0",
   "metadata": {
    "executionInfo": {
     "elapsed": 7,
     "status": "ok",
     "timestamp": 1683994785457,
     "user": {
      "displayName": "Rustem Islamov",
      "userId": "14004423805570759556"
     },
     "user_tz": 420
    },
    "id": "d44e93f0"
   },
   "outputs": [],
   "source": [
    "def compute_L(clients, M, d_theta):\n",
    "    L = 0\n",
    "    for m in clients:\n",
    "        L_hat = np.linalg.norm(m.Am.T@(np.eye(n_data) - m.Bm@np.linalg.pinv(m.Bm))@m.Am)\n",
    "        L_phi = max(np.linalg.eigvals(m.phi_m.Hm.T@m.phi_m.Hm))\n",
    "        L_max = max(L_hat, L_phi)\n",
    "        if L_max > L:\n",
    "            L = L_max\n",
    "    return L_max\n",
    "\n",
    "def compute_L_mu(clients):\n",
    "    for m in clients:\n",
    "        H = m.Bm.T@m.Bm\n",
    "        eigs = np.linalg.eigvals(H)\n",
    "        L = max(eigs)\n",
    "        mu = min(eigs)\n",
    "        print(f'client {m.m}', mu, L)"
   ]
  },
  {
   "cell_type": "code",
   "execution_count": null,
   "id": "642dbd37",
   "metadata": {
    "executionInfo": {
     "elapsed": 2747,
     "status": "ok",
     "timestamp": 1683994788197,
     "user": {
      "displayName": "Rustem Islamov",
      "userId": "14004423805570759556"
     },
     "user_tz": 420
    },
    "id": "642dbd37"
   },
   "outputs": [],
   "source": [
    "clients = [F_m(m, d_theta, d_w, n_data, zeta, noise_scale, H, A, B) for m in range(M)]"
   ]
  },
  {
   "cell_type": "code",
   "execution_count": null,
   "id": "3f14f7e2",
   "metadata": {
    "executionInfo": {
     "elapsed": 2,
     "status": "ok",
     "timestamp": 1683994788197,
     "user": {
      "displayName": "Rustem Islamov",
      "userId": "14004423805570759556"
     },
     "user_tz": 420
    },
    "id": "3f14f7e2"
   },
   "outputs": [],
   "source": [
    "theta0 = np.zeros((d_theta,))\n",
    "w0 = np.zeros((d_w,))"
   ]
  },
  {
   "cell_type": "code",
   "execution_count": null,
   "id": "dc574739",
   "metadata": {
    "colab": {
     "base_uri": "https://localhost:8080/"
    },
    "executionInfo": {
     "elapsed": 884,
     "status": "ok",
     "timestamp": 1683994789079,
     "user": {
      "displayName": "Rustem Islamov",
      "userId": "14004423805570759556"
     },
     "user_tz": 420
    },
    "id": "dc574739",
    "outputId": "f9fc74f6-30fe-4016-af9c-789ad4765631"
   },
   "outputs": [],
   "source": [
    "full_op = F(clients, d_theta, M)\n",
    "full_op.operator_norm(theta0)"
   ]
  },
  {
   "cell_type": "code",
   "execution_count": null,
   "id": "5c942ab4",
   "metadata": {
    "executionInfo": {
     "elapsed": 7,
     "status": "ok",
     "timestamp": 1683994789080,
     "user": {
      "displayName": "Rustem Islamov",
      "userId": "14004423805570759556"
     },
     "user_tz": 420
    },
    "id": "5c942ab4"
   },
   "outputs": [],
   "source": [
    "def FFGG(theta0, batch_size, lrout, lrin, T, tau, clients, M, d_theta, d_w, n_data, exact_comp=True):\n",
    "    theta = theta0.copy()\n",
    "    \n",
    "    full_op = F(clients, d_theta, M)\n",
    "    \n",
    "    history = {'F_norm':[full_op.operator_norm(theta)], 'F_norm_min':[full_op.operator_norm(theta)]}\n",
    "    history['iter'] = [0]\n",
    "    print('iteration 0', history['F_norm'][-1])\n",
    "    \n",
    "    for t in range(T):\n",
    "        batch = rng.choice(clients, size=batch_size, replace=False)\n",
    "        g_theta = np.zeros((d_theta,))\n",
    "        if exact_comp:\n",
    "            for m in batch:\n",
    "                g_theta += m.operator(theta)\n",
    "        else:\n",
    "            for m in batch:\n",
    "                w = rng.normal(size=d_w)\n",
    "                for l in range(tau):\n",
    "                    w -= lrin*m.grad_w(theta, w)\n",
    "                g_theta += m.grad_theta(theta, w)\n",
    "            \n",
    "        theta -= lrout/batch_size*g_theta\n",
    "        \n",
    "        if t%10==0:\n",
    "            history['F_norm'].append(full_op.operator_norm(theta))\n",
    "            history['F_norm_min'].append(min(history['F_norm_min'][-1], history['F_norm'][-1]))\n",
    "            history['iter'].append(t+1)\n",
    "            print(f'iteration {t+1}', history['F_norm'][-1])\n",
    "\n",
    "            with open(f'./results/FFGG_cl{M}_lrout{lrout}_lrin{lrin}_dt{d_theta}_dw{d_w}_T{T}_tau{tau}_zeta{zeta}.pkl', 'wb') as fp:\n",
    "                pickle.dump(history, fp)\n",
    "            \n",
    "    return theta, history"
   ]
  },
  {
   "cell_type": "code",
   "execution_count": null,
   "id": "fd1821cd",
   "metadata": {
    "executionInfo": {
     "elapsed": 6,
     "status": "ok",
     "timestamp": 1683994789080,
     "user": {
      "displayName": "Rustem Islamov",
      "userId": "14004423805570759556"
     },
     "user_tz": 420
    },
    "id": "fd1821cd"
   },
   "outputs": [],
   "source": [
    "def Local_SGD(theta0, w0, batch_size, lrout, lrin, T, tau, clients, M, d_theta, d_w, n_data):\n",
    "    theta = theta0.copy()\n",
    "    w = w0.copy()\n",
    "    full_op = F(clients, d_theta, M)\n",
    "    \n",
    "    history = {'F_norm':[full_op.operator_norm(theta)], 'F_norm_min':[full_op.operator_norm(theta)]}\n",
    "    history['iter'] = [0]\n",
    "    print('iteration 0', history['F_norm_min'][-1])\n",
    "    \n",
    "    theta_local = [theta.copy() for m in range(M)]\n",
    "    w_local = [w.copy() for m in range(M)]\n",
    "    for t in range(T):\n",
    "        for client in clients:\n",
    "            theta_local[client.m] = theta.copy()\n",
    "            w_local[client.m] = w.copy()\n",
    "            for l in range(tau):\n",
    "                g_theta = client.grad_theta(theta_local[client.m], w_local[client.m])\n",
    "                g_w = client.grad_w(theta_local[client.m], w_local[client.m])\n",
    "                theta_local[client.m] -= lrin*g_theta\n",
    "                w_local[client.m] -= lrin*g_w\n",
    "                \n",
    "        theta = np.mean(theta_local, axis=0)\n",
    "        w = np.mean(w_local, axis=0)\n",
    "        \n",
    "        if t%10==0:\n",
    "            history['F_norm'].append(full_op.operator_norm(theta))\n",
    "            history['F_norm_min'].append(min(history['F_norm_min'][-1], history['F_norm'][-1]))\n",
    "            history['iter'].append(t+1)\n",
    "            print(f'iteration {t+1}', history['F_norm'][-1])\n",
    "\n",
    "            with open(f'./results/LocalSGD_cl{M}_lrout{lrout}_lrin{lrin}_dt{d_theta}_dw{d_w}_T{T}_tau{tau}_zeta{zeta}.pkl', 'wb') as fp:\n",
    "                pickle.dump(history, fp)\n",
    "        \n",
    "    return theta, history"
   ]
  },
  {
   "cell_type": "code",
   "execution_count": null,
   "id": "557c4844",
   "metadata": {
    "executionInfo": {
     "elapsed": 5,
     "status": "ok",
     "timestamp": 1683994789080,
     "user": {
      "displayName": "Rustem Islamov",
      "userId": "14004423805570759556"
     },
     "user_tz": 420
    },
    "id": "557c4844"
   },
   "outputs": [],
   "source": [
    "def SCAFFOLD(theta0, w0, batch_size, lrout, lrin, T, tau, clients, M, d_theta, d_w, n_data):\n",
    "    theta = theta0.copy()\n",
    "    w = w0.copy()\n",
    "    full_op = F(clients, d_theta, M)\n",
    "    \n",
    "    c_theta = np.zeros((d_theta,)) #global \n",
    "    c_w = np.zeros((d_w,)) # global\n",
    "    \n",
    "    C_theta = [np.zeros((d_theta,)) for m in range(M)] #local \n",
    "    C_w = [np.zeros((d_w,)) for m in range(M)] #local\n",
    "    \n",
    "    history = {'F_norm':[full_op.operator_norm(theta)], 'F_norm_min':[full_op.operator_norm(theta)]}\n",
    "    history['iter'] = [0]\n",
    "    print('iteration 0', history['F_norm_min'][-1])\n",
    "    \n",
    "    for t in range(T):\n",
    "        batch = rng.choice(clients, size=batch_size, replace=False)\n",
    "        \n",
    "        theta_store = np.zeros((d_theta,))\n",
    "        w_store = np.zeros((d_w,))\n",
    "\n",
    "        delta_c_theta = np.zeros((d_theta, ))\n",
    "        delta_c_w = np.zeros((d_w,))\n",
    "\n",
    "        delta_y_theta = np.zeros((d_theta,))\n",
    "        delta_y_w = np.zeros((d_w,))\n",
    "        for client in batch:\n",
    "            theta_local = theta.copy()\n",
    "            w_local = w.copy()\n",
    "            for l in range(tau):\n",
    "                g_theta = client.grad_theta(theta_local, w_local)\n",
    "                g_w = client.grad_w(theta_local, w_local)\n",
    "\n",
    "                theta_local -= lrin*(g_theta - C_theta[client.m] + c_theta)\n",
    "                w_local -= lrin*(g_w - C_w[client.m] + c_w)\n",
    "            \n",
    "            #compute c_i^+\n",
    "            c_theta_plus = client.grad_theta(theta, w)\n",
    "            c_w_plus = client.grad_w(theta, w)\n",
    "\n",
    "            #compute Delta c_i\n",
    "            delta_c_theta += c_theta_plus - C_theta[client.m]\n",
    "            delta_c_w += c_w_plus - C_w[client.m]\n",
    "\n",
    "            #compute Delta y_i\n",
    "            delta_y_theta = theta_local - theta\n",
    "            delta_y_w = w_local - w\n",
    "\n",
    "            #update c_i <- c_i^+\n",
    "            C_theta[client.m] = c_theta_plus\n",
    "            C_w[client.m] = c_w_plus\n",
    "\n",
    "        #update x\n",
    "        theta += lrout*delta_y_theta/batch_size\n",
    "        w += lrout*delta_y_w/batch_size\n",
    "\n",
    "        #update c\n",
    "        c_theta += batch_size/M*delta_c_theta\n",
    "        c_w += batch_size/M*delta_c_w\n",
    "\n",
    "\n",
    "        if t%10==0:\n",
    "            history['F_norm'].append(full_op.operator_norm(theta))\n",
    "            history['F_norm_min'].append(min(history['F_norm_min'][-1], history['F_norm'][-1]))\n",
    "            history['iter'].append(t+1)\n",
    "            print(f'iteration {t+1}', history['F_norm'][-1])\n",
    "\n",
    "            with open(f'./results/Scaffold_cl{M}_lrout{lrout}_lrin{lrin}_dt{d_theta}_dw{d_w}_T{T}_tau{tau}_zeta{zeta}.pkl', 'wb') as fp:\n",
    "                pickle.dump(history, fp)\n",
    "        \n",
    "    return theta, history"
   ]
  },
  {
   "cell_type": "code",
   "execution_count": null,
   "id": "b47b9bae-505a-4dc2-a290-0aaad6c24ecb",
   "metadata": {},
   "outputs": [],
   "source": [
    "def Mixture(theta0, w0, lrin, T, tau, clients, lmbd, M, d_theta, d_w, n_data):\n",
    "    full_op = F(clients, d_theta, M)\n",
    "\n",
    "    p = 1/tau\n",
    "    theta_local = [theta0.copy() for m in range(M)]\n",
    "    w_local = [w0.copy() for m in range(M)]\n",
    "\n",
    "    theta = np.mean(theta_local, axis=0)\n",
    "    w = np.mean(w_local, axis=0)\n",
    "    \n",
    "    history = {'F_norm':[full_op.operator_norm(theta)], 'F_norm_min':[full_op.operator_norm(theta)]}\n",
    "    history['iter'] = [0]\n",
    "    print('iteration 0', history['F_norm_min'][-1])\n",
    "    \n",
    "    xi = bernoulli(p)\n",
    "    for t in range(T):\n",
    "        \n",
    "        sample = xi.rvs(1)[0]\n",
    "        if sample==0:\n",
    "            for client in clients:\n",
    "                #local steps\n",
    "                g_theta = client.grad_theta(theta_local[client.m], w_local[client.m])\n",
    "                g_w = client.grad_w(theta_local[client.m], w_local[client.m])\n",
    "\n",
    "                theta_local[client.m] -= lrin/(M*(1-p))*g_theta\n",
    "                w_local[client.m] -= lrin/(M*(1-p))*g_w\n",
    "        else:\n",
    "            theta = np.mean(theta_local, axis=0)\n",
    "            w = np.mean(w_local, axis=0)\n",
    "\n",
    "            for client in clients:\n",
    "                temp = lrin*lmbd/(M*p)\n",
    "                theta_local[client.m] = (1-temp)*theta_local[client.m] + temp*theta\n",
    "                w_local[client.m] = (1-temp)*w_local[client.m] + temp*w\n",
    "        \n",
    "        \n",
    "        if t%10==0:\n",
    "            theta = np.mean(theta_local, axis=0)\n",
    "            w = np.mean(w_local, axis=0)\n",
    "            history['F_norm'].append(full_op.operator_norm(theta))\n",
    "            history['F_norm_min'].append(min(history['F_norm_min'][-1], history['F_norm'][-1]))\n",
    "            history['iter'].append(t+1)\n",
    "            print(f'iteration {t+1}', history['F_norm'][-1])\n",
    "\n",
    "            \n",
    "            with open(f'./results/Mixture_cl{M}_lmbd{lmbd}_lrin{lrin}_dt{d_theta}_dw{d_w}_T{T}_tau{tau}_zeta{zeta}.pkl', 'wb') as fp:\n",
    "                pickle.dump(history, fp)\n",
    "        \n",
    "    return np.mean(theta_local), history"
   ]
  },
  {
   "cell_type": "code",
   "execution_count": null,
   "id": "0dfa348a",
   "metadata": {
    "colab": {
     "base_uri": "https://localhost:8080/"
    },
    "executionInfo": {
     "elapsed": 100051,
     "status": "ok",
     "timestamp": 1683994889127,
     "user": {
      "displayName": "Rustem Islamov",
      "userId": "14004423805570759556"
     },
     "user_tz": 420
    },
    "id": "0dfa348a",
    "outputId": "44d5d7e6-0f82-4fdd-e3dc-239f5b73cf79"
   },
   "outputs": [],
   "source": [
    "L = compute_L(clients, M, d_theta)\n",
    "L, 1/L"
   ]
  },
  {
   "cell_type": "code",
   "execution_count": null,
   "id": "aaf0f034",
   "metadata": {
    "colab": {
     "base_uri": "https://localhost:8080/"
    },
    "executionInfo": {
     "elapsed": 24,
     "status": "ok",
     "timestamp": 1683994889128,
     "user": {
      "displayName": "Rustem Islamov",
      "userId": "14004423805570759556"
     },
     "user_tz": 420
    },
    "id": "aaf0f034",
    "outputId": "5376580d-1149-4a89-df3f-98e3f7264f9d",
    "scrolled": true
   },
   "outputs": [],
   "source": [
    "compute_L_mu(clients)"
   ]
  },
  {
   "cell_type": "code",
   "execution_count": null,
   "id": "fbacdb5e-391f-4ef7-9e82-df205d6538e6",
   "metadata": {},
   "outputs": [],
   "source": [
    "1/2"
   ]
  },
  {
   "cell_type": "code",
   "execution_count": null,
   "id": "181ed9dd",
   "metadata": {
    "executionInfo": {
     "elapsed": 15,
     "status": "ok",
     "timestamp": 1683994889129,
     "user": {
      "displayName": "Rustem Islamov",
      "userId": "14004423805570759556"
     },
     "user_tz": 420
    },
    "id": "181ed9dd"
   },
   "outputs": [],
   "source": [
    "method = 'FFGG'\n",
    "batch_size = M\n",
    "tau = 100\n",
    "lrout = 1/L\n",
    "lrin = 1/2\n",
    "T = 200"
   ]
  },
  {
   "cell_type": "code",
   "execution_count": null,
   "id": "fb665cce-0587-451d-81b7-588fb61c6cdb",
   "metadata": {
    "scrolled": true
   },
   "outputs": [],
   "source": [
    "theta_ffgg_full, record_ffgg_full = FFGG(theta0, batch_size, lrout, lrin, \n",
    "                           T, tau, clients, M, d_theta, d_w, n_data, exact_comp=False)"
   ]
  },
  {
   "cell_type": "code",
   "execution_count": null,
   "id": "92f389e6",
   "metadata": {
    "id": "92f389e6"
   },
   "outputs": [],
   "source": []
  }
 ],
 "metadata": {
  "colab": {
   "provenance": []
  },
  "kernelspec": {
   "display_name": "Python 3 (ipykernel)",
   "language": "python",
   "name": "python3"
  },
  "language_info": {
   "codemirror_mode": {
    "name": "ipython",
    "version": 3
   },
   "file_extension": ".py",
   "mimetype": "text/x-python",
   "name": "python",
   "nbconvert_exporter": "python",
   "pygments_lexer": "ipython3",
   "version": "3.10.12"
  }
 },
 "nbformat": 4,
 "nbformat_minor": 5
}
