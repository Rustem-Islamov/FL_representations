{
 "cells": [
  {
   "cell_type": "code",
   "execution_count": null,
   "id": "d03908ba",
   "metadata": {
    "executionInfo": {
     "elapsed": 6505,
     "status": "ok",
     "timestamp": 1683995011751,
     "user": {
      "displayName": "Rustem Islamov",
      "userId": "14004423805570759556"
     },
     "user_tz": 420
    },
    "id": "d03908ba"
   },
   "outputs": [],
   "source": [
    "import numpy as np\n",
    "import matplotlib.pylab as plt\n",
    "from sklearn.preprocessing import StandardScaler\n",
    "from numba import njit, jit\n",
    "from numba.experimental import jitclass\n",
    "import pickle\n",
    "stand_scaler = StandardScaler()"
   ]
  },
  {
   "cell_type": "code",
   "execution_count": null,
   "id": "b68fbfe6",
   "metadata": {
    "executionInfo": {
     "elapsed": 14,
     "status": "ok",
     "timestamp": 1683995011752,
     "user": {
      "displayName": "Rustem Islamov",
      "userId": "14004423805570759556"
     },
     "user_tz": 420
    },
    "id": "b68fbfe6"
   },
   "outputs": [],
   "source": [
    "max_seed = 424242\n",
    "\n",
    "d_theta = 100\n",
    "d_w = 50\n",
    "n_data = 10000\n",
    "lmb = 0\n",
    "M = 32\n",
    "\n",
    "rng = np.random.default_rng(42)\n",
    "noise_scale = 0.  # overpersonalization"
   ]
  },
  {
   "cell_type": "code",
   "execution_count": null,
   "id": "063758e8",
   "metadata": {
    "executionInfo": {
     "elapsed": 10,
     "status": "ok",
     "timestamp": 1683995011752,
     "user": {
      "displayName": "Rustem Islamov",
      "userId": "14004423805570759556"
     },
     "user_tz": 420
    },
    "id": "063758e8"
   },
   "outputs": [],
   "source": [
    "theta = rng.normal(size=d_theta)\n",
    "\n",
    "def generate_A_b(n, d, noise_scale):\n",
    "    A = rng.uniform(size=(n, d)) / d\n",
    "    b = A @ theta\n",
    "    return A, b\n",
    "\n",
    "\n",
    "def generate_A_B_c(n, d1, d2, noise_scale):\n",
    "    A = rng.uniform(size=(n, d1), ) / (d1)\n",
    "    B = rng.uniform(size=(n, d2)) / (d2)\n",
    "    x1 = rng.normal(size=d1)\n",
    "    x2 = rng.normal(size=d2)\n",
    "    y = A @ theta + B @ x2\n",
    "    return A, B, y"
   ]
  },
  {
   "cell_type": "markdown",
   "id": "0b4f1ce3",
   "metadata": {
    "id": "0b4f1ce3"
   },
   "source": [
    "$$\\phi_m(\\theta) = \\frac{1}{2}\\|H_m\\theta - b_m\\|^2$$\n",
    "$$\\nabla \\phi_m(\\theta) = H_m^\\top(H_m\\theta - b_m)$$"
   ]
  },
  {
   "cell_type": "code",
   "execution_count": null,
   "id": "eba11cc7",
   "metadata": {
    "executionInfo": {
     "elapsed": 8,
     "status": "ok",
     "timestamp": 1683995011752,
     "user": {
      "displayName": "Rustem Islamov",
      "userId": "14004423805570759556"
     },
     "user_tz": 420
    },
    "id": "eba11cc7"
   },
   "outputs": [],
   "source": [
    "class Phi_m:\n",
    "    def __init__(self, d_theta, n_data, noise_scale):\n",
    "        self.d = d_theta\n",
    "        self.n = n_data\n",
    "        self.noise = noise_scale\n",
    "        self.Hm, self.bm = generate_A_b(n_data, d_theta, noise_scale)\n",
    "    \n",
    "    def func(self, theta):\n",
    "        return 0.5*sum((self.Hm@theta - self.bm)**2) \n",
    "    \n",
    "    def grad(self, theta):\n",
    "        return self.Hm.T@(self.Hm@theta - self.bm)"
   ]
  },
  {
   "cell_type": "markdown",
   "id": "c8b9a146",
   "metadata": {
    "id": "c8b9a146"
   },
   "source": [
    "$$\n",
    "\\begin{align}\n",
    "f_m(\\theta, w) &= \\phi_m(\\theta) + \\frac{1}{2}\\|A_m\\theta+B_mw-y_m\\|^2\\\\\n",
    "\\nabla_1f_m(\\theta, w) &= \\nabla \\phi_m(\\theta) + A_m^\\top(A_m\\theta+B_mw-y_m)\\\\\n",
    "\\nabla_2f_m(\\theta, w) &= B_m^\\top(A_m\\theta+B_mw-y_m)\\\\\n",
    "w_m^*(\\theta) &= (B_m^\\top B_m)^{-1}(B_m^\\top y_m - B_m^\\top A_m\\theta)\n",
    "\\end{align}\n",
    "$$"
   ]
  },
  {
   "cell_type": "code",
   "execution_count": null,
   "id": "8bd6a2d3",
   "metadata": {
    "executionInfo": {
     "elapsed": 8,
     "status": "ok",
     "timestamp": 1683995011753,
     "user": {
      "displayName": "Rustem Islamov",
      "userId": "14004423805570759556"
     },
     "user_tz": 420
    },
    "id": "8bd6a2d3"
   },
   "outputs": [],
   "source": [
    "class F_m:\n",
    "    def __init__(self, d_theta, d_w, n_data, noise_scale, m):\n",
    "        self.phi_m = Phi_m(d_theta, n_data, noise_scale)\n",
    "        self.d_theta = d_theta\n",
    "        self.d_w = d_w\n",
    "        self.m = m\n",
    "        self.n = n_data\n",
    "        self.noise = noise_scale\n",
    "        self.Am, self.Bm, self.ym = generate_A_B_c(n_data, d_theta, d_w, noise_scale)\n",
    "    \n",
    "    def func(self, theta, w):\n",
    "        return self.phi_m.func(theta) + 0.5*sum((self.Am@theta + self.Bm@w - self.ym)**2)\n",
    "\n",
    "    def grad_theta(self, theta, w):\n",
    "        return self.phi_m.grad(theta) + self.Am.T@(self.Am@theta + self.Bm@w - self.ym)\n",
    "\n",
    "    def grad_w(self, theta, w):\n",
    "        return self.Bm.T@(self.Am@theta + self.Bm@w - self.ym)\n",
    "\n",
    "    def opt_w(self, theta):\n",
    "        A = self.Bm.T@self.Bm\n",
    "        b = self.Bm.T@(self.ym - self.Am@theta)\n",
    "        return np.linalg.solve(A, b)\n",
    "    \n",
    "    def operator(self, theta):\n",
    "        w_star = self.opt_w(theta)\n",
    "        return self.grad_theta(theta, w_star)\n",
    "    \n",
    "    def operator_norm_(self, theta):\n",
    "        return sum(self.operator(theta)**2)"
   ]
  },
  {
   "cell_type": "code",
   "execution_count": null,
   "id": "cce72dc1",
   "metadata": {
    "executionInfo": {
     "elapsed": 7,
     "status": "ok",
     "timestamp": 1683995011753,
     "user": {
      "displayName": "Rustem Islamov",
      "userId": "14004423805570759556"
     },
     "user_tz": 420
    },
    "id": "cce72dc1"
   },
   "outputs": [],
   "source": [
    "class F:\n",
    "    def __init__(self, clients, d_theta, M):\n",
    "        self.clients = clients\n",
    "        self.M = M\n",
    "        self.d_theta = d_theta\n",
    "        \n",
    "    def operator(self, theta):\n",
    "        out = np.zeros((self.d_theta,))\n",
    "        for m in self.clients:\n",
    "            out += m.operator(theta)\n",
    "        return out / self.M\n",
    "    \n",
    "    \n",
    "    def operator_norm(self, theta):\n",
    "        return np.linalg.norm(self.operator(theta))"
   ]
  },
  {
   "cell_type": "code",
   "execution_count": null,
   "id": "d44e93f0",
   "metadata": {
    "executionInfo": {
     "elapsed": 7,
     "status": "ok",
     "timestamp": 1683995011753,
     "user": {
      "displayName": "Rustem Islamov",
      "userId": "14004423805570759556"
     },
     "user_tz": 420
    },
    "id": "d44e93f0"
   },
   "outputs": [],
   "source": [
    "def compute_L(clients, M, n_data):\n",
    "    L = 0\n",
    "    for m in clients:\n",
    "        L_hat = np.linalg.norm(m.Am.T@(np.eye(n_data) - m.Bm@np.linalg.pinv(m.Bm))@m.Am)\n",
    "        L_phi = max(np.linalg.eigvals(m.phi_m.Hm.T@m.phi_m.Hm))\n",
    "        L_max = max(L_hat, L_phi)\n",
    "        if L_max > L:\n",
    "            L = L_max\n",
    "    return L_max\n",
    "\n",
    "def compute_L_mu(clients):\n",
    "    for m in clients:\n",
    "        H = m.Bm.T@m.Bm\n",
    "        eigs = np.linalg.eigvals(H)\n",
    "        L = max(eigs)\n",
    "        mu = min(eigs)\n",
    "        print(f'client {m.m}', mu, L)"
   ]
  },
  {
   "cell_type": "code",
   "execution_count": null,
   "id": "642dbd37",
   "metadata": {
    "executionInfo": {
     "elapsed": 4448,
     "status": "ok",
     "timestamp": 1683995016195,
     "user": {
      "displayName": "Rustem Islamov",
      "userId": "14004423805570759556"
     },
     "user_tz": 420
    },
    "id": "642dbd37"
   },
   "outputs": [],
   "source": [
    "clients = [F_m(d_theta, d_w, n_data, noise_scale, m) for m in range(M)]"
   ]
  },
  {
   "cell_type": "code",
   "execution_count": null,
   "id": "3f14f7e2",
   "metadata": {
    "executionInfo": {
     "elapsed": 15,
     "status": "ok",
     "timestamp": 1683995016197,
     "user": {
      "displayName": "Rustem Islamov",
      "userId": "14004423805570759556"
     },
     "user_tz": 420
    },
    "id": "3f14f7e2"
   },
   "outputs": [],
   "source": [
    "theta0 = np.zeros((d_theta,))\n",
    "w0 = np.zeros((d_w,))"
   ]
  },
  {
   "cell_type": "code",
   "execution_count": null,
   "id": "dc574739",
   "metadata": {
    "colab": {
     "base_uri": "https://localhost:8080/"
    },
    "executionInfo": {
     "elapsed": 439,
     "status": "ok",
     "timestamp": 1683995016628,
     "user": {
      "displayName": "Rustem Islamov",
      "userId": "14004423805570759556"
     },
     "user_tz": 420
    },
    "id": "dc574739",
    "outputId": "72431945-a2d5-4aee-cfeb-2cfc89583368"
   },
   "outputs": [],
   "source": [
    "full_op = F(clients, d_theta, M)\n",
    "full_op.operator_norm(theta0)"
   ]
  },
  {
   "cell_type": "code",
   "execution_count": null,
   "id": "5c942ab4",
   "metadata": {
    "executionInfo": {
     "elapsed": 353,
     "status": "ok",
     "timestamp": 1683995016980,
     "user": {
      "displayName": "Rustem Islamov",
      "userId": "14004423805570759556"
     },
     "user_tz": 420
    },
    "id": "5c942ab4"
   },
   "outputs": [],
   "source": [
    "def FFGG(theta0, batch_size, lrout, lrin, T, tau, clients, M, d_theta, d_w, n_data, exact_comp=True):\n",
    "    theta = theta0.copy()\n",
    "    \n",
    "    full_op = F(clients, d_theta, M)\n",
    "    \n",
    "    history = {'F_norm':[full_op.operator_norm(theta)], 'F_norm_min':[full_op.operator_norm(theta)]}\n",
    "    history['iter'] = [0]\n",
    "    print('iteration 0', history['F_norm'][-1])\n",
    "    \n",
    "    for t in range(T):\n",
    "        batch = rng.choice(clients, size=batch_size, replace=False)\n",
    "        g_theta = np.zeros((d_theta,))\n",
    "        if exact_comp:\n",
    "            for m in batch:\n",
    "                g_theta += m.operator(theta)\n",
    "        else:\n",
    "            for m in batch:\n",
    "                w = rng.normal(size=d_w)\n",
    "                for l in range(tau):\n",
    "                    w -= lrin*m.grad_w(theta, w)\n",
    "                g_theta += m.grad_theta(theta, w)\n",
    "            \n",
    "        theta -= lrout/batch_size*g_theta\n",
    "        \n",
    "        if t%10==0:\n",
    "            history['F_norm'].append(full_op.operator_norm(theta))\n",
    "            history['F_norm_min'].append(min(history['F_norm_min'][-1], history['F_norm'][-1]))\n",
    "            history['iter'].append(t+1)\n",
    "            print(f'iteration {t+1}', history['F_norm'][-1])\n",
    "\n",
    "            with open(f'comparison_cl:{M}_lrout:{lrout}_lrin:{lrin}_dt:{d_theta}_dw:{d_w}_T:{T}_tau:{tau}.pkl', 'wb') as fp:\n",
    "                pickle.dump(history, fp)\n",
    "            \n",
    "    return theta, history"
   ]
  },
  {
   "cell_type": "code",
   "execution_count": null,
   "id": "cb37e669",
   "metadata": {},
   "outputs": [],
   "source": [
    "# Bucketing\n",
    "def bucketing(grad_s, bucket_size=2):\n",
    "    np.random.shuffle(grad_s)\n",
    "    n = len(grad_s)\n",
    "    grad_s_new = []\n",
    "    for i in range(0, n, bucket_size):\n",
    "        grad_s_new.append(np.mean(grad_s[i:i+bucket_size], axis=0))\n",
    "    grad_s_new = np.array(grad_s_new)\n",
    "    return grad_s_new\n",
    "\n",
    "# Coordinate Wise Median with bucketing\n",
    "def cm(grad_s, bucket_size=2):\n",
    "    n = len(grad_s)\n",
    "    grad_s = np.array(grad_s)\n",
    "    grad_s = bucketing(grad_s, bucket_size)\n",
    "    return np.median(grad_s, axis=0)\n",
    "\n",
    "def FFGG_w_Byzantine(theta0, batch_size, lrout, lrin, T, tau, clients, M, d_theta, d_w, n_data, exact_comp=True):\n",
    "    theta = theta0.copy()\n",
    "    \n",
    "    full_op = F(clients, d_theta, M)\n",
    "    \n",
    "    history = {'F_norm':[full_op.operator_norm(theta)], 'F_norm_min':[full_op.operator_norm(theta)]}\n",
    "    history['iter'] = [0]\n",
    "    print('iteration 0', history['F_norm'][-1])\n",
    "    \n",
    "    for t in range(T):\n",
    "        batch = rng.choice(clients, size=batch_size, replace=False)\n",
    "        g_theta = np.zeros((d_theta,))\n",
    "        if exact_comp:\n",
    "            grad_s = [m.operator(theta) for m in batch]\n",
    "        else:\n",
    "            grad_s = []\n",
    "            for m in batch:\n",
    "                w = rng.normal(size=d_w)\n",
    "                for l in range(tau):\n",
    "                    w -= lrin*m.grad_w(theta, w)\n",
    "                grad_s.append(m.grad_theta(theta, w))\n",
    "        # add Byzantine as negative gradient (Gradient Flipping Attack)\n",
    "        for m in rng.choice(clients, size=batch_size//3, replace=False):\n",
    "            grad_s.append(-m.operator(theta))\n",
    "        # Robust Aggregation: Coordinate Wise Median with bucketing \n",
    "        g_theta = cm(grad_s)\n",
    "        # g_theta = np.mean(grad_s, axis=0)\n",
    "        theta -= lrout*g_theta\n",
    "        \n",
    "        if t%10==0:\n",
    "            history['F_norm'].append(full_op.operator_norm(theta))\n",
    "            history['F_norm_min'].append(min(history['F_norm_min'][-1], history['F_norm'][-1]))\n",
    "            history['iter'].append(t+1)\n",
    "            print(f'iteration {t+1}', history['F_norm'][-1])\n",
    "            print(f\"Mean and Variance of the updates: {np.linalg.norm(np.mean(grad_s, axis=0))} / {np.linalg.norm(np.std(grad_s, axis=0))}\")\n",
    "\n",
    "            with open(f'comparison_cl:{M}_lrout:{lrout}_lrin:{lrin}_dt:{d_theta}_dw:{d_w}_T:{T}_tau:{tau}.pkl', 'wb') as fp:\n",
    "                pickle.dump(history, fp)\n",
    "            \n",
    "    return theta, history"
   ]
  },
  {
   "cell_type": "code",
   "execution_count": null,
   "id": "0dfa348a",
   "metadata": {
    "colab": {
     "base_uri": "https://localhost:8080/"
    },
    "executionInfo": {
     "elapsed": 101381,
     "status": "ok",
     "timestamp": 1683995118355,
     "user": {
      "displayName": "Rustem Islamov",
      "userId": "14004423805570759556"
     },
     "user_tz": 420
    },
    "id": "0dfa348a",
    "outputId": "d52cc819-2c80-4e78-b650-7ceeb0ecc992"
   },
   "outputs": [],
   "source": [
    "L = compute_L(clients, M, n_data)\n",
    "L, 1/L"
   ]
  },
  {
   "cell_type": "code",
   "execution_count": null,
   "id": "aaf0f034",
   "metadata": {
    "colab": {
     "base_uri": "https://localhost:8080/"
    },
    "executionInfo": {
     "elapsed": 24,
     "status": "ok",
     "timestamp": 1683995118356,
     "user": {
      "displayName": "Rustem Islamov",
      "userId": "14004423805570759556"
     },
     "user_tz": 420
    },
    "id": "aaf0f034",
    "outputId": "ea900ced-5654-4646-a76a-7c4b4012577d"
   },
   "outputs": [],
   "source": [
    "compute_L_mu(clients)"
   ]
  },
  {
   "cell_type": "code",
   "execution_count": null,
   "id": "181ed9dd",
   "metadata": {
    "id": "181ed9dd"
   },
   "outputs": [],
   "source": [
    "batch_size = M\n",
    "tau = 200\n",
    "lrout = 1/L\n",
    "lrin = 1/50\n",
    "T = 1000"
   ]
  },
  {
   "cell_type": "code",
   "execution_count": null,
   "id": "097faeca",
   "metadata": {
    "id": "097faeca",
    "scrolled": true
   },
   "outputs": [],
   "source": [
    "theta_ffgg_full, record_ffgg_full = FFGG(theta0, batch_size, lrout, lrin, \n",
    "                               T, tau, clients, M, d_theta, d_w, n_data, exact_comp=True)"
   ]
  },
  {
   "cell_type": "code",
   "execution_count": null,
   "id": "e0af8aec",
   "metadata": {},
   "outputs": [],
   "source": [
    "theta_ffgg_byz, record_ffgg_byz = FFGG_w_Byzantine(theta0, batch_size, lrout, lrin, \n",
    "                               T, tau, clients, M, d_theta, d_w, n_data, exact_comp=True)"
   ]
  },
  {
   "cell_type": "code",
   "execution_count": null,
   "id": "8c557919-40b5-450e-8e7a-7a38309c4290",
   "metadata": {},
   "outputs": [],
   "source": []
  }
 ],
 "metadata": {
  "colab": {
   "provenance": []
  },
  "kernelspec": {
   "display_name": "Python 3 (ipykernel)",
   "language": "python",
   "name": "python3"
  },
  "language_info": {
   "codemirror_mode": {
    "name": "ipython",
    "version": 3
   },
   "file_extension": ".py",
   "mimetype": "text/x-python",
   "name": "python",
   "nbconvert_exporter": "python",
   "pygments_lexer": "ipython3",
   "version": "3.10.12"
  }
 },
 "nbformat": 4,
 "nbformat_minor": 5
}
